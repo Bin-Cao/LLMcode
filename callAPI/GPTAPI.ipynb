{
 "cells": [
  {
   "cell_type": "markdown",
   "id": "01977be3-8c92-4809-bf50-f7a443e404d7",
   "metadata": {},
   "source": [
    "!pip install openai\n",
    "!pip install gradio"
   ]
  },
  {
   "cell_type": "code",
   "execution_count": 11,
   "id": "76eeebd4-7102-40d8-8c2f-26928999ae2c",
   "metadata": {},
   "outputs": [
    {
     "name": "stdout",
     "output_type": "stream",
     "text": [
      "Error: Connection error.\n"
     ]
    }
   ],
   "source": [
    "# Import necessary packages\n",
    "import openai  # OpenAI API library\n",
    "import gradio as gr  # Gradio for building web interfaces\n",
    "import json  # JSON library for handling data\n",
    "from typing import List, Dict, Tuple  # Corrected the typo in \"typing\"\n",
    "\n",
    "# Set up the OpenAI API key\n",
    "OPENAI_API_KEY = 'xxxx'  # Replace with your actual API key\n",
    "client = openai.OpenAI(api_key=OPENAI_API_KEY)  # Initialize the OpenAI client\n",
    "\n",
    "try:\n",
    "    # Send a test request to the OpenAI API\n",
    "    response = client.chat.completions.create(\n",
    "        model='gpt-3.5-turbo',  # Specify the model\n",
    "        messages=[{'role': 'user', 'content': 'test'}],  # Message input\n",
    "        max_tokens=1  # Limit the response to 1 token\n",
    "    )\n",
    "    print('Set ChatGPT API successfully!')  # Print success message if the API call works\n",
    "except Exception as e:\n",
    "    # Catch and print any errors encountered during the API request\n",
    "    print(f'Error: {e}')  \n"
   ]
  },
  {
   "cell_type": "code",
   "execution_count": null,
   "id": "0e791589-78f3-4757-baec-72cfee974c54",
   "metadata": {},
   "outputs": [],
   "source": [
    "!pip install google-generativeai"
   ]
  },
  {
   "cell_type": "code",
   "execution_count": 14,
   "id": "f72980d7-71c0-45e4-a837-ae55d2e90fa3",
   "metadata": {},
   "outputs": [
    {
     "name": "stdout",
     "output_type": "stream",
     "text": [
      "Error: 404 models/gemini-pro is not found for API version v1beta, or is not supported for generateContent. Call ListModels to see the list of available models and their supported methods.\n"
     ]
    }
   ],
   "source": [
    "# Import necessary packages\n",
    "import google.generativeai as genai  # Google Generative AI SDK\n",
    "import gradio as gr  # Gradio for web UI\n",
    "import json\n",
    "from typing import List, Dict, Tuple  # Corrected import\n",
    "\n",
    "# Set up the Gemini API key\n",
    "GEMINI_API_KEY = \"x-xxx\"  # Replace with your actual key 【https://aistudio.google.com/apikey】\n",
    "genai.configure(api_key=GEMINI_API_KEY)  # Configure the API key\n",
    "\n",
    "try:\n",
    "    # Initialize the model (use 'gemini-pro' or 'gemini-pro-vision' for images)\n",
    "    model = genai.GenerativeModel(\"gemini-pro\")\n",
    "    \n",
    "    # Send a test request to Gemini\n",
    "    response = model.generate_content(\"test\")\n",
    "\n",
    "    print(\"Connected to Gemini API successfully!\")  # Success message\n",
    "    print(\"Response:\", response.text)  # Print the output\n",
    "\n",
    "except Exception as e:\n",
    "    # Catch and display any errors\n",
    "    print(f\"Error: {e}\")\n"
   ]
  },
  {
   "cell_type": "code",
   "execution_count": 2,
   "id": "24a08901-26c2-4d24-85ca-89891acbb593",
   "metadata": {},
   "outputs": [
    {
     "name": "stdout",
     "output_type": "stream",
     "text": [
      "Available models:\n",
      "Error: 400 User location is not supported for the API use.\n"
     ]
    }
   ],
   "source": [
    "import google.generativeai as genai\n",
    "\n",
    "# Set up the Gemini API key\n",
    "GEMINI_API_KEY = \"xx-xxx\"\n",
    "genai.configure(api_key=GEMINI_API_KEY)\n",
    "\n",
    "try:\n",
    "    # List available models\n",
    "    models = genai.list_models()\n",
    "    print(\"Available models:\")\n",
    "    for model in models:\n",
    "        print(model.name)\n",
    "except Exception as e:\n",
    "    print(f\"Error: {e}\")\n"
   ]
  },
  {
   "cell_type": "markdown",
   "id": "3803986f-703c-4e80-9cea-2ba3db014dbd",
   "metadata": {},
   "source": [
    "!pip install requests\n"
   ]
  },
  {
   "cell_type": "code",
   "execution_count": 3,
   "id": "2a1c90dd-05e2-4d8a-9e92-fd539f528db1",
   "metadata": {},
   "outputs": [
    {
     "name": "stdout",
     "output_type": "stream",
     "text": [
      "Error: 402, Message: {\"error\":{\"message\":\"Insufficient Balance\",\"type\":\"unknown_error\",\"param\":null,\"code\":\"invalid_request_error\"}}\n"
     ]
    }
   ],
   "source": [
    "import requests\n",
    "\n",
    "# Set your DeepSeek API Key\n",
    "DEEPSEEK_API_KEY = \"XXXXXXXXXXX\"\n",
    "\n",
    "# API endpoint for DeepSeek\n",
    "DEEPSEEK_API_URL = \"https://api.deepseek.com/v1/chat/completions\"\n",
    "\n",
    "# Define the request payload\n",
    "data = {\n",
    "    \"model\": \"deepseek-chat\",  # Use \"deepseek-chat\" for chat models\n",
    "    \"messages\": [\n",
    "        {\"role\": \"system\", \"content\": \"You are a helpful AI assistant.\"},\n",
    "        {\"role\": \"user\", \"content\": \"Hello, DeepSeek!\"}\n",
    "    ],\n",
    "    \"max_tokens\": 100\n",
    "}\n",
    "\n",
    "# Set headers with authorization\n",
    "headers = {\n",
    "    \"Authorization\": f\"Bearer {DEEPSEEK_API_KEY}\",\n",
    "    \"Content-Type\": \"application/json\"\n",
    "}\n",
    "\n",
    "try:\n",
    "    # Send POST request to DeepSeek API\n",
    "    response = requests.post(DEEPSEEK_API_URL, json=data, headers=headers)\n",
    "    \n",
    "    # Check if the request was successful\n",
    "    if response.status_code == 200:\n",
    "        print(\"DeepSeek Response:\", response.json()[\"choices\"][0][\"message\"][\"content\"])\n",
    "    else:\n",
    "        print(f\"Error: {response.status_code}, Message: {response.text}\")\n",
    "\n",
    "except Exception as e:\n",
    "    print(f\"Request failed: {e}\")\n"
   ]
  },
  {
   "cell_type": "code",
   "execution_count": null,
   "id": "9d3a138d-5928-49bc-b2d8-f5e94f1c2781",
   "metadata": {},
   "outputs": [],
   "source": []
  }
 ],
 "metadata": {
  "kernelspec": {
   "display_name": "Python 3 (ipykernel)",
   "language": "python",
   "name": "python3"
  },
  "language_info": {
   "codemirror_mode": {
    "name": "ipython",
    "version": 3
   },
   "file_extension": ".py",
   "mimetype": "text/x-python",
   "name": "python",
   "nbconvert_exporter": "python",
   "pygments_lexer": "ipython3",
   "version": "3.11.7"
  }
 },
 "nbformat": 4,
 "nbformat_minor": 5
}
